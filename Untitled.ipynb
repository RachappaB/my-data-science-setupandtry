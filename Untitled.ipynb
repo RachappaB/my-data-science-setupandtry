{
 "cells": [
  {
   "cell_type": "code",
   "execution_count": 1,
   "id": "3cbb4a0e-befd-44ec-9ee4-b9595955ffa1",
   "metadata": {},
   "outputs": [
    {
     "name": "stdout",
     "output_type": "stream",
     "text": [
      "hello\n"
     ]
    }
   ],
   "source": [
    "print(\"hello\");"
   ]
  },
  {
   "cell_type": "code",
   "execution_count": null,
   "id": "3177220d-bca1-43b5-a073-c4ef697930f2",
   "metadata": {},
   "outputs": [],
   "source": [
    "import tensorflow as tf\n",
    "import numpy as np\n",
    "import scipy\n",
    "import pandas as pd\n",
    "import matplotlib.pyplot as plt\n",
    "import keras\n",
    "import sklearn\n",
    "import torch\n",
    "import scrapy\n",
    "from bs4 import BeautifulSoup\n",
    "import lightgbm\n",
    "import eli5\n",
    "import theano\n",
    "import nupic\n",
    "import rampwf as ramp\n",
    "import pipenv\n",
    "import bob\n",
    "import pybrain\n",
    "import caffe2\n",
    "import chainer\n"
   ]
  }
 ],
 "metadata": {
  "kernelspec": {
   "display_name": "Python 3 (ipykernel)",
   "language": "python",
   "name": "python3"
  },
  "language_info": {
   "codemirror_mode": {
    "name": "ipython",
    "version": 3
   },
   "file_extension": ".py",
   "mimetype": "text/x-python",
   "name": "python",
   "nbconvert_exporter": "python",
   "pygments_lexer": "ipython3",
   "version": "3.11.6"
  }
 },
 "nbformat": 4,
 "nbformat_minor": 5
}
